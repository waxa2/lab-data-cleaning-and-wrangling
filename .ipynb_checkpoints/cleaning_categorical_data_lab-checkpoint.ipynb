{
 "cells": [
  {
   "cell_type": "markdown",
   "metadata": {},
   "source": [
    "#### Lab | Cleaning categorical data\n",
    "For this lab, we will be using the dataset in the Customer Analysis Business Case. This dataset can be found in files_for_lab folder. In this lab we will explore categorical data.\n",
    "\n",
    "##### Instructions\n",
    "\n",
    "a) Import the necessary libraries if you are starting a new notebook.\n"
   ]
  },
  {
   "cell_type": "code",
   "execution_count": 1,
   "metadata": {},
   "outputs": [],
   "source": [
    "import pandas as pd\n",
    "import numpy as np\n",
    "import seaborn as sb\n",
    "import matplotlib.pyplot as plt\n",
    "pd.set_option('display.max_columns', None)"
   ]
  },
  {
   "cell_type": "markdown",
   "metadata": {},
   "source": [
    "b) Load the continuous and discrete variables into continuous_df and discrete_df variable"
   ]
  },
  {
   "cell_type": "code",
   "execution_count": 2,
   "metadata": {},
   "outputs": [
    {
     "name": "stdout",
     "output_type": "stream",
     "text": [
      "<class 'pandas.core.frame.DataFrame'>\n",
      "RangeIndex: 9134 entries, 0 to 9133\n",
      "Data columns (total 24 columns):\n",
      " #   Column                         Non-Null Count  Dtype  \n",
      "---  ------                         --------------  -----  \n",
      " 0   Customer                       9134 non-null   object \n",
      " 1   State                          9134 non-null   object \n",
      " 2   Customer Lifetime Value        9134 non-null   float64\n",
      " 3   Response                       9134 non-null   object \n",
      " 4   Coverage                       9134 non-null   object \n",
      " 5   Education                      9134 non-null   object \n",
      " 6   Effective To Date              9134 non-null   object \n",
      " 7   EmploymentStatus               9134 non-null   object \n",
      " 8   Gender                         9134 non-null   object \n",
      " 9   Income                         9134 non-null   int64  \n",
      " 10  Location Code                  9134 non-null   object \n",
      " 11  Marital Status                 9134 non-null   object \n",
      " 12  Monthly Premium Auto           9134 non-null   int64  \n",
      " 13  Months Since Last Claim        9134 non-null   int64  \n",
      " 14  Months Since Policy Inception  9134 non-null   int64  \n",
      " 15  Number of Open Complaints      9134 non-null   int64  \n",
      " 16  Number of Policies             9134 non-null   int64  \n",
      " 17  Policy Type                    9134 non-null   object \n",
      " 18  Policy                         9134 non-null   object \n",
      " 19  Renew Offer Type               9134 non-null   object \n",
      " 20  Sales Channel                  9134 non-null   object \n",
      " 21  Total Claim Amount             9134 non-null   float64\n",
      " 22  Vehicle Class                  9134 non-null   object \n",
      " 23  Vehicle Size                   9134 non-null   object \n",
      "dtypes: float64(2), int64(6), object(16)\n",
      "memory usage: 1.7+ MB\n"
     ]
    }
   ],
   "source": [
    "df_data=pd.read_csv('we_fn_use_c_marketing_customer_value_analysis.csv')\n",
    "df_data.info()"
   ]
  },
  {
   "cell_type": "code",
   "execution_count": 3,
   "metadata": {},
   "outputs": [],
   "source": [
    "col_names=df_data.columns.values.tolist() # create a list with column names"
   ]
  },
  {
   "cell_type": "code",
   "execution_count": 4,
   "metadata": {},
   "outputs": [],
   "source": [
    "for col in range(len(col_names)):\n",
    "    col_names[col]=col_names[col].lower()\n",
    "    col_names[col]=col_names[col].replace(\" \", \"_\") # replace blanks with underscores and convert all the letters to lowercase"
   ]
  },
  {
   "cell_type": "code",
   "execution_count": 5,
   "metadata": {},
   "outputs": [],
   "source": [
    "for i in range(len(col_names)):\n",
    "    df_data.rename(columns={df_data.columns.values[i]:col_names[i]},inplace=True) # rename the columns"
   ]
  },
  {
   "cell_type": "code",
   "execution_count": 6,
   "metadata": {},
   "outputs": [
    {
     "data": {
      "text/html": [
       "<div>\n",
       "<style scoped>\n",
       "    .dataframe tbody tr th:only-of-type {\n",
       "        vertical-align: middle;\n",
       "    }\n",
       "\n",
       "    .dataframe tbody tr th {\n",
       "        vertical-align: top;\n",
       "    }\n",
       "\n",
       "    .dataframe thead th {\n",
       "        text-align: right;\n",
       "    }\n",
       "</style>\n",
       "<table border=\"1\" class=\"dataframe\">\n",
       "  <thead>\n",
       "    <tr style=\"text-align: right;\">\n",
       "      <th></th>\n",
       "      <th>customer</th>\n",
       "      <th>state</th>\n",
       "      <th>customer_lifetime_value</th>\n",
       "      <th>response</th>\n",
       "      <th>coverage</th>\n",
       "      <th>education</th>\n",
       "      <th>effective_to_date</th>\n",
       "      <th>employmentstatus</th>\n",
       "      <th>gender</th>\n",
       "      <th>income</th>\n",
       "      <th>location_code</th>\n",
       "      <th>marital_status</th>\n",
       "      <th>monthly_premium_auto</th>\n",
       "      <th>months_since_last_claim</th>\n",
       "      <th>months_since_policy_inception</th>\n",
       "      <th>number_of_open_complaints</th>\n",
       "      <th>number_of_policies</th>\n",
       "      <th>policy_type</th>\n",
       "      <th>policy</th>\n",
       "      <th>renew_offer_type</th>\n",
       "      <th>sales_channel</th>\n",
       "      <th>total_claim_amount</th>\n",
       "      <th>vehicle_class</th>\n",
       "      <th>vehicle_size</th>\n",
       "    </tr>\n",
       "  </thead>\n",
       "  <tbody>\n",
       "    <tr>\n",
       "      <th>0</th>\n",
       "      <td>BU79786</td>\n",
       "      <td>Washington</td>\n",
       "      <td>2763.519279</td>\n",
       "      <td>No</td>\n",
       "      <td>Basic</td>\n",
       "      <td>Bachelor</td>\n",
       "      <td>2/24/11</td>\n",
       "      <td>Employed</td>\n",
       "      <td>F</td>\n",
       "      <td>56274</td>\n",
       "      <td>Suburban</td>\n",
       "      <td>Married</td>\n",
       "      <td>69</td>\n",
       "      <td>32</td>\n",
       "      <td>5</td>\n",
       "      <td>0</td>\n",
       "      <td>1</td>\n",
       "      <td>Corporate Auto</td>\n",
       "      <td>Corporate L3</td>\n",
       "      <td>Offer1</td>\n",
       "      <td>Agent</td>\n",
       "      <td>384.811147</td>\n",
       "      <td>Two-Door Car</td>\n",
       "      <td>Medsize</td>\n",
       "    </tr>\n",
       "    <tr>\n",
       "      <th>1</th>\n",
       "      <td>QZ44356</td>\n",
       "      <td>Arizona</td>\n",
       "      <td>6979.535903</td>\n",
       "      <td>No</td>\n",
       "      <td>Extended</td>\n",
       "      <td>Bachelor</td>\n",
       "      <td>1/31/11</td>\n",
       "      <td>Unemployed</td>\n",
       "      <td>F</td>\n",
       "      <td>0</td>\n",
       "      <td>Suburban</td>\n",
       "      <td>Single</td>\n",
       "      <td>94</td>\n",
       "      <td>13</td>\n",
       "      <td>42</td>\n",
       "      <td>0</td>\n",
       "      <td>8</td>\n",
       "      <td>Personal Auto</td>\n",
       "      <td>Personal L3</td>\n",
       "      <td>Offer3</td>\n",
       "      <td>Agent</td>\n",
       "      <td>1131.464935</td>\n",
       "      <td>Four-Door Car</td>\n",
       "      <td>Medsize</td>\n",
       "    </tr>\n",
       "  </tbody>\n",
       "</table>\n",
       "</div>"
      ],
      "text/plain": [
       "  customer       state  customer_lifetime_value response  coverage education  \\\n",
       "0  BU79786  Washington              2763.519279       No     Basic  Bachelor   \n",
       "1  QZ44356     Arizona              6979.535903       No  Extended  Bachelor   \n",
       "\n",
       "  effective_to_date employmentstatus gender  income location_code  \\\n",
       "0           2/24/11         Employed      F   56274      Suburban   \n",
       "1           1/31/11       Unemployed      F       0      Suburban   \n",
       "\n",
       "  marital_status  monthly_premium_auto  months_since_last_claim  \\\n",
       "0        Married                    69                       32   \n",
       "1         Single                    94                       13   \n",
       "\n",
       "   months_since_policy_inception  number_of_open_complaints  \\\n",
       "0                              5                          0   \n",
       "1                             42                          0   \n",
       "\n",
       "   number_of_policies     policy_type        policy renew_offer_type  \\\n",
       "0                   1  Corporate Auto  Corporate L3           Offer1   \n",
       "1                   8   Personal Auto   Personal L3           Offer3   \n",
       "\n",
       "  sales_channel  total_claim_amount  vehicle_class vehicle_size  \n",
       "0         Agent          384.811147   Two-Door Car      Medsize  \n",
       "1         Agent         1131.464935  Four-Door Car      Medsize  "
      ]
     },
     "execution_count": 6,
     "metadata": {},
     "output_type": "execute_result"
    }
   ],
   "source": [
    "df_data.head(2)"
   ]
  },
  {
   "cell_type": "code",
   "execution_count": 7,
   "metadata": {},
   "outputs": [],
   "source": [
    "continuous_df=df_data.select_dtypes('float64') # create a dataframe with continuous variables"
   ]
  },
  {
   "cell_type": "code",
   "execution_count": 8,
   "metadata": {},
   "outputs": [
    {
     "name": "stdout",
     "output_type": "stream",
     "text": [
      "<class 'pandas.core.frame.DataFrame'>\n",
      "RangeIndex: 9134 entries, 0 to 9133\n",
      "Data columns (total 2 columns):\n",
      " #   Column                   Non-Null Count  Dtype  \n",
      "---  ------                   --------------  -----  \n",
      " 0   customer_lifetime_value  9134 non-null   float64\n",
      " 1   total_claim_amount       9134 non-null   float64\n",
      "dtypes: float64(2)\n",
      "memory usage: 142.8 KB\n"
     ]
    }
   ],
   "source": [
    "continuous_df.info()"
   ]
  },
  {
   "cell_type": "code",
   "execution_count": 9,
   "metadata": {},
   "outputs": [
    {
     "data": {
      "text/html": [
       "<div>\n",
       "<style scoped>\n",
       "    .dataframe tbody tr th:only-of-type {\n",
       "        vertical-align: middle;\n",
       "    }\n",
       "\n",
       "    .dataframe tbody tr th {\n",
       "        vertical-align: top;\n",
       "    }\n",
       "\n",
       "    .dataframe thead th {\n",
       "        text-align: right;\n",
       "    }\n",
       "</style>\n",
       "<table border=\"1\" class=\"dataframe\">\n",
       "  <thead>\n",
       "    <tr style=\"text-align: right;\">\n",
       "      <th></th>\n",
       "      <th>customer_lifetime_value</th>\n",
       "      <th>total_claim_amount</th>\n",
       "    </tr>\n",
       "  </thead>\n",
       "  <tbody>\n",
       "    <tr>\n",
       "      <th>0</th>\n",
       "      <td>2763.519279</td>\n",
       "      <td>384.811147</td>\n",
       "    </tr>\n",
       "    <tr>\n",
       "      <th>1</th>\n",
       "      <td>6979.535903</td>\n",
       "      <td>1131.464935</td>\n",
       "    </tr>\n",
       "    <tr>\n",
       "      <th>2</th>\n",
       "      <td>12887.431650</td>\n",
       "      <td>566.472247</td>\n",
       "    </tr>\n",
       "  </tbody>\n",
       "</table>\n",
       "</div>"
      ],
      "text/plain": [
       "   customer_lifetime_value  total_claim_amount\n",
       "0              2763.519279          384.811147\n",
       "1              6979.535903         1131.464935\n",
       "2             12887.431650          566.472247"
      ]
     },
     "execution_count": 9,
     "metadata": {},
     "output_type": "execute_result"
    }
   ],
   "source": [
    "continuous_df.head(3)"
   ]
  },
  {
   "cell_type": "code",
   "execution_count": 10,
   "metadata": {},
   "outputs": [],
   "source": [
    "discrete_df=df_data.select_dtypes('int64') # create a dataframe with discrete variables"
   ]
  },
  {
   "cell_type": "code",
   "execution_count": 11,
   "metadata": {},
   "outputs": [
    {
     "name": "stdout",
     "output_type": "stream",
     "text": [
      "<class 'pandas.core.frame.DataFrame'>\n",
      "RangeIndex: 9134 entries, 0 to 9133\n",
      "Data columns (total 6 columns):\n",
      " #   Column                         Non-Null Count  Dtype\n",
      "---  ------                         --------------  -----\n",
      " 0   income                         9134 non-null   int64\n",
      " 1   monthly_premium_auto           9134 non-null   int64\n",
      " 2   months_since_last_claim        9134 non-null   int64\n",
      " 3   months_since_policy_inception  9134 non-null   int64\n",
      " 4   number_of_open_complaints      9134 non-null   int64\n",
      " 5   number_of_policies             9134 non-null   int64\n",
      "dtypes: int64(6)\n",
      "memory usage: 428.3 KB\n"
     ]
    }
   ],
   "source": [
    "discrete_df.info()"
   ]
  },
  {
   "cell_type": "code",
   "execution_count": 12,
   "metadata": {},
   "outputs": [
    {
     "data": {
      "text/html": [
       "<div>\n",
       "<style scoped>\n",
       "    .dataframe tbody tr th:only-of-type {\n",
       "        vertical-align: middle;\n",
       "    }\n",
       "\n",
       "    .dataframe tbody tr th {\n",
       "        vertical-align: top;\n",
       "    }\n",
       "\n",
       "    .dataframe thead th {\n",
       "        text-align: right;\n",
       "    }\n",
       "</style>\n",
       "<table border=\"1\" class=\"dataframe\">\n",
       "  <thead>\n",
       "    <tr style=\"text-align: right;\">\n",
       "      <th></th>\n",
       "      <th>income</th>\n",
       "      <th>monthly_premium_auto</th>\n",
       "      <th>months_since_last_claim</th>\n",
       "      <th>months_since_policy_inception</th>\n",
       "      <th>number_of_open_complaints</th>\n",
       "      <th>number_of_policies</th>\n",
       "    </tr>\n",
       "  </thead>\n",
       "  <tbody>\n",
       "    <tr>\n",
       "      <th>0</th>\n",
       "      <td>56274</td>\n",
       "      <td>69</td>\n",
       "      <td>32</td>\n",
       "      <td>5</td>\n",
       "      <td>0</td>\n",
       "      <td>1</td>\n",
       "    </tr>\n",
       "    <tr>\n",
       "      <th>1</th>\n",
       "      <td>0</td>\n",
       "      <td>94</td>\n",
       "      <td>13</td>\n",
       "      <td>42</td>\n",
       "      <td>0</td>\n",
       "      <td>8</td>\n",
       "    </tr>\n",
       "    <tr>\n",
       "      <th>2</th>\n",
       "      <td>48767</td>\n",
       "      <td>108</td>\n",
       "      <td>18</td>\n",
       "      <td>38</td>\n",
       "      <td>0</td>\n",
       "      <td>2</td>\n",
       "    </tr>\n",
       "  </tbody>\n",
       "</table>\n",
       "</div>"
      ],
      "text/plain": [
       "   income  monthly_premium_auto  months_since_last_claim  \\\n",
       "0   56274                    69                       32   \n",
       "1       0                    94                       13   \n",
       "2   48767                   108                       18   \n",
       "\n",
       "   months_since_policy_inception  number_of_open_complaints  \\\n",
       "0                              5                          0   \n",
       "1                             42                          0   \n",
       "2                             38                          0   \n",
       "\n",
       "   number_of_policies  \n",
       "0                   1  \n",
       "1                   8  \n",
       "2                   2  "
      ]
     },
     "execution_count": 12,
     "metadata": {},
     "output_type": "execute_result"
    }
   ],
   "source": [
    "discrete_df.head(3)"
   ]
  },
  {
   "cell_type": "markdown",
   "metadata": {},
   "source": [
    "c) Plot a correlation matrix, what can you see?\n",
    "\n"
   ]
  },
  {
   "cell_type": "code",
   "execution_count": 13,
   "metadata": {},
   "outputs": [
    {
     "data": {
      "text/html": [
       "<style  type=\"text/css\" >\n",
       "#T_ebe73eee_fbb9_11ec_9d41_f0038c9c2fb6row0_col0,#T_ebe73eee_fbb9_11ec_9d41_f0038c9c2fb6row1_col1,#T_ebe73eee_fbb9_11ec_9d41_f0038c9c2fb6row2_col2,#T_ebe73eee_fbb9_11ec_9d41_f0038c9c2fb6row3_col3,#T_ebe73eee_fbb9_11ec_9d41_f0038c9c2fb6row4_col4,#T_ebe73eee_fbb9_11ec_9d41_f0038c9c2fb6row5_col5,#T_ebe73eee_fbb9_11ec_9d41_f0038c9c2fb6row6_col6,#T_ebe73eee_fbb9_11ec_9d41_f0038c9c2fb6row7_col7{\n",
       "            background-color:  #b40426;\n",
       "            color:  #f1f1f1;\n",
       "        }#T_ebe73eee_fbb9_11ec_9d41_f0038c9c2fb6row0_col1{\n",
       "            background-color:  #97b8ff;\n",
       "            color:  #000000;\n",
       "        }#T_ebe73eee_fbb9_11ec_9d41_f0038c9c2fb6row0_col2{\n",
       "            background-color:  #c1d4f4;\n",
       "            color:  #000000;\n",
       "        }#T_ebe73eee_fbb9_11ec_9d41_f0038c9c2fb6row0_col3{\n",
       "            background-color:  #4a63d3;\n",
       "            color:  #f1f1f1;\n",
       "        }#T_ebe73eee_fbb9_11ec_9d41_f0038c9c2fb6row0_col4,#T_ebe73eee_fbb9_11ec_9d41_f0038c9c2fb6row6_col3,#T_ebe73eee_fbb9_11ec_9d41_f0038c9c2fb6row7_col3{\n",
       "            background-color:  #4961d2;\n",
       "            color:  #f1f1f1;\n",
       "        }#T_ebe73eee_fbb9_11ec_9d41_f0038c9c2fb6row0_col5,#T_ebe73eee_fbb9_11ec_9d41_f0038c9c2fb6row1_col2,#T_ebe73eee_fbb9_11ec_9d41_f0038c9c2fb6row1_col7,#T_ebe73eee_fbb9_11ec_9d41_f0038c9c2fb6row2_col6,#T_ebe73eee_fbb9_11ec_9d41_f0038c9c2fb6row3_col4,#T_ebe73eee_fbb9_11ec_9d41_f0038c9c2fb6row4_col3,#T_ebe73eee_fbb9_11ec_9d41_f0038c9c2fb6row4_col6,#T_ebe73eee_fbb9_11ec_9d41_f0038c9c2fb6row5_col0,#T_ebe73eee_fbb9_11ec_9d41_f0038c9c2fb6row5_col2,#T_ebe73eee_fbb9_11ec_9d41_f0038c9c2fb6row7_col1{\n",
       "            background-color:  #3b4cc0;\n",
       "            color:  #f1f1f1;\n",
       "        }#T_ebe73eee_fbb9_11ec_9d41_f0038c9c2fb6row0_col6,#T_ebe73eee_fbb9_11ec_9d41_f0038c9c2fb6row4_col5{\n",
       "            background-color:  #445acc;\n",
       "            color:  #f1f1f1;\n",
       "        }#T_ebe73eee_fbb9_11ec_9d41_f0038c9c2fb6row0_col7{\n",
       "            background-color:  #c9d7f0;\n",
       "            color:  #000000;\n",
       "        }#T_ebe73eee_fbb9_11ec_9d41_f0038c9c2fb6row1_col0,#T_ebe73eee_fbb9_11ec_9d41_f0038c9c2fb6row6_col0{\n",
       "            background-color:  #4b64d5;\n",
       "            color:  #f1f1f1;\n",
       "        }#T_ebe73eee_fbb9_11ec_9d41_f0038c9c2fb6row1_col3,#T_ebe73eee_fbb9_11ec_9d41_f0038c9c2fb6row5_col6{\n",
       "            background-color:  #3e51c5;\n",
       "            color:  #f1f1f1;\n",
       "        }#T_ebe73eee_fbb9_11ec_9d41_f0038c9c2fb6row1_col4,#T_ebe73eee_fbb9_11ec_9d41_f0038c9c2fb6row1_col5,#T_ebe73eee_fbb9_11ec_9d41_f0038c9c2fb6row3_col5,#T_ebe73eee_fbb9_11ec_9d41_f0038c9c2fb6row5_col4{\n",
       "            background-color:  #465ecf;\n",
       "            color:  #f1f1f1;\n",
       "        }#T_ebe73eee_fbb9_11ec_9d41_f0038c9c2fb6row1_col6,#T_ebe73eee_fbb9_11ec_9d41_f0038c9c2fb6row6_col2{\n",
       "            background-color:  #3c4ec2;\n",
       "            color:  #f1f1f1;\n",
       "        }#T_ebe73eee_fbb9_11ec_9d41_f0038c9c2fb6row2_col0{\n",
       "            background-color:  #c5d6f2;\n",
       "            color:  #000000;\n",
       "        }#T_ebe73eee_fbb9_11ec_9d41_f0038c9c2fb6row2_col1{\n",
       "            background-color:  #8caffe;\n",
       "            color:  #000000;\n",
       "        }#T_ebe73eee_fbb9_11ec_9d41_f0038c9c2fb6row2_col3,#T_ebe73eee_fbb9_11ec_9d41_f0038c9c2fb6row3_col0,#T_ebe73eee_fbb9_11ec_9d41_f0038c9c2fb6row4_col0,#T_ebe73eee_fbb9_11ec_9d41_f0038c9c2fb6row5_col3,#T_ebe73eee_fbb9_11ec_9d41_f0038c9c2fb6row7_col4{\n",
       "            background-color:  #485fd1;\n",
       "            color:  #f1f1f1;\n",
       "        }#T_ebe73eee_fbb9_11ec_9d41_f0038c9c2fb6row2_col4{\n",
       "            background-color:  #4c66d6;\n",
       "            color:  #000000;\n",
       "        }#T_ebe73eee_fbb9_11ec_9d41_f0038c9c2fb6row2_col5,#T_ebe73eee_fbb9_11ec_9d41_f0038c9c2fb6row3_col2,#T_ebe73eee_fbb9_11ec_9d41_f0038c9c2fb6row3_col6,#T_ebe73eee_fbb9_11ec_9d41_f0038c9c2fb6row7_col5{\n",
       "            background-color:  #4055c8;\n",
       "            color:  #f1f1f1;\n",
       "        }#T_ebe73eee_fbb9_11ec_9d41_f0038c9c2fb6row2_col7{\n",
       "            background-color:  #f6a283;\n",
       "            color:  #000000;\n",
       "        }#T_ebe73eee_fbb9_11ec_9d41_f0038c9c2fb6row3_col1{\n",
       "            background-color:  #8badfd;\n",
       "            color:  #000000;\n",
       "        }#T_ebe73eee_fbb9_11ec_9d41_f0038c9c2fb6row3_col7,#T_ebe73eee_fbb9_11ec_9d41_f0038c9c2fb6row5_col1{\n",
       "            background-color:  #93b5fe;\n",
       "            color:  #000000;\n",
       "        }#T_ebe73eee_fbb9_11ec_9d41_f0038c9c2fb6row4_col1,#T_ebe73eee_fbb9_11ec_9d41_f0038c9c2fb6row6_col7{\n",
       "            background-color:  #90b2fe;\n",
       "            color:  #000000;\n",
       "        }#T_ebe73eee_fbb9_11ec_9d41_f0038c9c2fb6row4_col2,#T_ebe73eee_fbb9_11ec_9d41_f0038c9c2fb6row6_col5{\n",
       "            background-color:  #455cce;\n",
       "            color:  #f1f1f1;\n",
       "        }#T_ebe73eee_fbb9_11ec_9d41_f0038c9c2fb6row4_col7{\n",
       "            background-color:  #92b4fe;\n",
       "            color:  #000000;\n",
       "        }#T_ebe73eee_fbb9_11ec_9d41_f0038c9c2fb6row5_col7,#T_ebe73eee_fbb9_11ec_9d41_f0038c9c2fb6row7_col0{\n",
       "            background-color:  #8db0fe;\n",
       "            color:  #000000;\n",
       "        }#T_ebe73eee_fbb9_11ec_9d41_f0038c9c2fb6row6_col1{\n",
       "            background-color:  #8fb1fe;\n",
       "            color:  #000000;\n",
       "        }#T_ebe73eee_fbb9_11ec_9d41_f0038c9c2fb6row6_col4{\n",
       "            background-color:  #4358cb;\n",
       "            color:  #f1f1f1;\n",
       "        }#T_ebe73eee_fbb9_11ec_9d41_f0038c9c2fb6row7_col2{\n",
       "            background-color:  #f5c0a7;\n",
       "            color:  #000000;\n",
       "        }#T_ebe73eee_fbb9_11ec_9d41_f0038c9c2fb6row7_col6{\n",
       "            background-color:  #3d50c3;\n",
       "            color:  #f1f1f1;\n",
       "        }</style><table id=\"T_ebe73eee_fbb9_11ec_9d41_f0038c9c2fb6\" ><thead>    <tr>        <th class=\"blank level0\" ></th>        <th class=\"col_heading level0 col0\" >customer_lifetime_value</th>        <th class=\"col_heading level0 col1\" >income</th>        <th class=\"col_heading level0 col2\" >monthly_premium_auto</th>        <th class=\"col_heading level0 col3\" >months_since_last_claim</th>        <th class=\"col_heading level0 col4\" >months_since_policy_inception</th>        <th class=\"col_heading level0 col5\" >number_of_open_complaints</th>        <th class=\"col_heading level0 col6\" >number_of_policies</th>        <th class=\"col_heading level0 col7\" >total_claim_amount</th>    </tr></thead><tbody>\n",
       "                <tr>\n",
       "                        <th id=\"T_ebe73eee_fbb9_11ec_9d41_f0038c9c2fb6level0_row0\" class=\"row_heading level0 row0\" >customer_lifetime_value</th>\n",
       "                        <td id=\"T_ebe73eee_fbb9_11ec_9d41_f0038c9c2fb6row0_col0\" class=\"data row0 col0\" >1.000000</td>\n",
       "                        <td id=\"T_ebe73eee_fbb9_11ec_9d41_f0038c9c2fb6row0_col1\" class=\"data row0 col1\" >0.024366</td>\n",
       "                        <td id=\"T_ebe73eee_fbb9_11ec_9d41_f0038c9c2fb6row0_col2\" class=\"data row0 col2\" >0.396262</td>\n",
       "                        <td id=\"T_ebe73eee_fbb9_11ec_9d41_f0038c9c2fb6row0_col3\" class=\"data row0 col3\" >0.011517</td>\n",
       "                        <td id=\"T_ebe73eee_fbb9_11ec_9d41_f0038c9c2fb6row0_col4\" class=\"data row0 col4\" >0.009418</td>\n",
       "                        <td id=\"T_ebe73eee_fbb9_11ec_9d41_f0038c9c2fb6row0_col5\" class=\"data row0 col5\" >-0.036343</td>\n",
       "                        <td id=\"T_ebe73eee_fbb9_11ec_9d41_f0038c9c2fb6row0_col6\" class=\"data row0 col6\" >0.021955</td>\n",
       "                        <td id=\"T_ebe73eee_fbb9_11ec_9d41_f0038c9c2fb6row0_col7\" class=\"data row0 col7\" >0.226451</td>\n",
       "            </tr>\n",
       "            <tr>\n",
       "                        <th id=\"T_ebe73eee_fbb9_11ec_9d41_f0038c9c2fb6level0_row1\" class=\"row_heading level0 row1\" >income</th>\n",
       "                        <td id=\"T_ebe73eee_fbb9_11ec_9d41_f0038c9c2fb6row1_col0\" class=\"data row1 col0\" >0.024366</td>\n",
       "                        <td id=\"T_ebe73eee_fbb9_11ec_9d41_f0038c9c2fb6row1_col1\" class=\"data row1 col1\" >1.000000</td>\n",
       "                        <td id=\"T_ebe73eee_fbb9_11ec_9d41_f0038c9c2fb6row1_col2\" class=\"data row1 col2\" >-0.016665</td>\n",
       "                        <td id=\"T_ebe73eee_fbb9_11ec_9d41_f0038c9c2fb6row1_col3\" class=\"data row1 col3\" >-0.026715</td>\n",
       "                        <td id=\"T_ebe73eee_fbb9_11ec_9d41_f0038c9c2fb6row1_col4\" class=\"data row1 col4\" >-0.000875</td>\n",
       "                        <td id=\"T_ebe73eee_fbb9_11ec_9d41_f0038c9c2fb6row1_col5\" class=\"data row1 col5\" >0.006408</td>\n",
       "                        <td id=\"T_ebe73eee_fbb9_11ec_9d41_f0038c9c2fb6row1_col6\" class=\"data row1 col6\" >-0.008656</td>\n",
       "                        <td id=\"T_ebe73eee_fbb9_11ec_9d41_f0038c9c2fb6row1_col7\" class=\"data row1 col7\" >-0.355254</td>\n",
       "            </tr>\n",
       "            <tr>\n",
       "                        <th id=\"T_ebe73eee_fbb9_11ec_9d41_f0038c9c2fb6level0_row2\" class=\"row_heading level0 row2\" >monthly_premium_auto</th>\n",
       "                        <td id=\"T_ebe73eee_fbb9_11ec_9d41_f0038c9c2fb6row2_col0\" class=\"data row2 col0\" >0.396262</td>\n",
       "                        <td id=\"T_ebe73eee_fbb9_11ec_9d41_f0038c9c2fb6row2_col1\" class=\"data row2 col1\" >-0.016665</td>\n",
       "                        <td id=\"T_ebe73eee_fbb9_11ec_9d41_f0038c9c2fb6row2_col2\" class=\"data row2 col2\" >1.000000</td>\n",
       "                        <td id=\"T_ebe73eee_fbb9_11ec_9d41_f0038c9c2fb6row2_col3\" class=\"data row2 col3\" >0.005026</td>\n",
       "                        <td id=\"T_ebe73eee_fbb9_11ec_9d41_f0038c9c2fb6row2_col4\" class=\"data row2 col4\" >0.020257</td>\n",
       "                        <td id=\"T_ebe73eee_fbb9_11ec_9d41_f0038c9c2fb6row2_col5\" class=\"data row2 col5\" >-0.013122</td>\n",
       "                        <td id=\"T_ebe73eee_fbb9_11ec_9d41_f0038c9c2fb6row2_col6\" class=\"data row2 col6\" >-0.011233</td>\n",
       "                        <td id=\"T_ebe73eee_fbb9_11ec_9d41_f0038c9c2fb6row2_col7\" class=\"data row2 col7\" >0.632017</td>\n",
       "            </tr>\n",
       "            <tr>\n",
       "                        <th id=\"T_ebe73eee_fbb9_11ec_9d41_f0038c9c2fb6level0_row3\" class=\"row_heading level0 row3\" >months_since_last_claim</th>\n",
       "                        <td id=\"T_ebe73eee_fbb9_11ec_9d41_f0038c9c2fb6row3_col0\" class=\"data row3 col0\" >0.011517</td>\n",
       "                        <td id=\"T_ebe73eee_fbb9_11ec_9d41_f0038c9c2fb6row3_col1\" class=\"data row3 col1\" >-0.026715</td>\n",
       "                        <td id=\"T_ebe73eee_fbb9_11ec_9d41_f0038c9c2fb6row3_col2\" class=\"data row3 col2\" >0.005026</td>\n",
       "                        <td id=\"T_ebe73eee_fbb9_11ec_9d41_f0038c9c2fb6row3_col3\" class=\"data row3 col3\" >1.000000</td>\n",
       "                        <td id=\"T_ebe73eee_fbb9_11ec_9d41_f0038c9c2fb6row3_col4\" class=\"data row3 col4\" >-0.042959</td>\n",
       "                        <td id=\"T_ebe73eee_fbb9_11ec_9d41_f0038c9c2fb6row3_col5\" class=\"data row3 col5\" >0.005354</td>\n",
       "                        <td id=\"T_ebe73eee_fbb9_11ec_9d41_f0038c9c2fb6row3_col6\" class=\"data row3 col6\" >0.009136</td>\n",
       "                        <td id=\"T_ebe73eee_fbb9_11ec_9d41_f0038c9c2fb6row3_col7\" class=\"data row3 col7\" >0.007563</td>\n",
       "            </tr>\n",
       "            <tr>\n",
       "                        <th id=\"T_ebe73eee_fbb9_11ec_9d41_f0038c9c2fb6level0_row4\" class=\"row_heading level0 row4\" >months_since_policy_inception</th>\n",
       "                        <td id=\"T_ebe73eee_fbb9_11ec_9d41_f0038c9c2fb6row4_col0\" class=\"data row4 col0\" >0.009418</td>\n",
       "                        <td id=\"T_ebe73eee_fbb9_11ec_9d41_f0038c9c2fb6row4_col1\" class=\"data row4 col1\" >-0.000875</td>\n",
       "                        <td id=\"T_ebe73eee_fbb9_11ec_9d41_f0038c9c2fb6row4_col2\" class=\"data row4 col2\" >0.020257</td>\n",
       "                        <td id=\"T_ebe73eee_fbb9_11ec_9d41_f0038c9c2fb6row4_col3\" class=\"data row4 col3\" >-0.042959</td>\n",
       "                        <td id=\"T_ebe73eee_fbb9_11ec_9d41_f0038c9c2fb6row4_col4\" class=\"data row4 col4\" >1.000000</td>\n",
       "                        <td id=\"T_ebe73eee_fbb9_11ec_9d41_f0038c9c2fb6row4_col5\" class=\"data row4 col5\" >-0.001158</td>\n",
       "                        <td id=\"T_ebe73eee_fbb9_11ec_9d41_f0038c9c2fb6row4_col6\" class=\"data row4 col6\" >-0.013333</td>\n",
       "                        <td id=\"T_ebe73eee_fbb9_11ec_9d41_f0038c9c2fb6row4_col7\" class=\"data row4 col7\" >0.003335</td>\n",
       "            </tr>\n",
       "            <tr>\n",
       "                        <th id=\"T_ebe73eee_fbb9_11ec_9d41_f0038c9c2fb6level0_row5\" class=\"row_heading level0 row5\" >number_of_open_complaints</th>\n",
       "                        <td id=\"T_ebe73eee_fbb9_11ec_9d41_f0038c9c2fb6row5_col0\" class=\"data row5 col0\" >-0.036343</td>\n",
       "                        <td id=\"T_ebe73eee_fbb9_11ec_9d41_f0038c9c2fb6row5_col1\" class=\"data row5 col1\" >0.006408</td>\n",
       "                        <td id=\"T_ebe73eee_fbb9_11ec_9d41_f0038c9c2fb6row5_col2\" class=\"data row5 col2\" >-0.013122</td>\n",
       "                        <td id=\"T_ebe73eee_fbb9_11ec_9d41_f0038c9c2fb6row5_col3\" class=\"data row5 col3\" >0.005354</td>\n",
       "                        <td id=\"T_ebe73eee_fbb9_11ec_9d41_f0038c9c2fb6row5_col4\" class=\"data row5 col4\" >-0.001158</td>\n",
       "                        <td id=\"T_ebe73eee_fbb9_11ec_9d41_f0038c9c2fb6row5_col5\" class=\"data row5 col5\" >1.000000</td>\n",
       "                        <td id=\"T_ebe73eee_fbb9_11ec_9d41_f0038c9c2fb6row5_col6\" class=\"data row5 col6\" >0.001498</td>\n",
       "                        <td id=\"T_ebe73eee_fbb9_11ec_9d41_f0038c9c2fb6row5_col7\" class=\"data row5 col7\" >-0.014241</td>\n",
       "            </tr>\n",
       "            <tr>\n",
       "                        <th id=\"T_ebe73eee_fbb9_11ec_9d41_f0038c9c2fb6level0_row6\" class=\"row_heading level0 row6\" >number_of_policies</th>\n",
       "                        <td id=\"T_ebe73eee_fbb9_11ec_9d41_f0038c9c2fb6row6_col0\" class=\"data row6 col0\" >0.021955</td>\n",
       "                        <td id=\"T_ebe73eee_fbb9_11ec_9d41_f0038c9c2fb6row6_col1\" class=\"data row6 col1\" >-0.008656</td>\n",
       "                        <td id=\"T_ebe73eee_fbb9_11ec_9d41_f0038c9c2fb6row6_col2\" class=\"data row6 col2\" >-0.011233</td>\n",
       "                        <td id=\"T_ebe73eee_fbb9_11ec_9d41_f0038c9c2fb6row6_col3\" class=\"data row6 col3\" >0.009136</td>\n",
       "                        <td id=\"T_ebe73eee_fbb9_11ec_9d41_f0038c9c2fb6row6_col4\" class=\"data row6 col4\" >-0.013333</td>\n",
       "                        <td id=\"T_ebe73eee_fbb9_11ec_9d41_f0038c9c2fb6row6_col5\" class=\"data row6 col5\" >0.001498</td>\n",
       "                        <td id=\"T_ebe73eee_fbb9_11ec_9d41_f0038c9c2fb6row6_col6\" class=\"data row6 col6\" >1.000000</td>\n",
       "                        <td id=\"T_ebe73eee_fbb9_11ec_9d41_f0038c9c2fb6row6_col7\" class=\"data row6 col7\" >-0.002354</td>\n",
       "            </tr>\n",
       "            <tr>\n",
       "                        <th id=\"T_ebe73eee_fbb9_11ec_9d41_f0038c9c2fb6level0_row7\" class=\"row_heading level0 row7\" >total_claim_amount</th>\n",
       "                        <td id=\"T_ebe73eee_fbb9_11ec_9d41_f0038c9c2fb6row7_col0\" class=\"data row7 col0\" >0.226451</td>\n",
       "                        <td id=\"T_ebe73eee_fbb9_11ec_9d41_f0038c9c2fb6row7_col1\" class=\"data row7 col1\" >-0.355254</td>\n",
       "                        <td id=\"T_ebe73eee_fbb9_11ec_9d41_f0038c9c2fb6row7_col2\" class=\"data row7 col2\" >0.632017</td>\n",
       "                        <td id=\"T_ebe73eee_fbb9_11ec_9d41_f0038c9c2fb6row7_col3\" class=\"data row7 col3\" >0.007563</td>\n",
       "                        <td id=\"T_ebe73eee_fbb9_11ec_9d41_f0038c9c2fb6row7_col4\" class=\"data row7 col4\" >0.003335</td>\n",
       "                        <td id=\"T_ebe73eee_fbb9_11ec_9d41_f0038c9c2fb6row7_col5\" class=\"data row7 col5\" >-0.014241</td>\n",
       "                        <td id=\"T_ebe73eee_fbb9_11ec_9d41_f0038c9c2fb6row7_col6\" class=\"data row7 col6\" >-0.002354</td>\n",
       "                        <td id=\"T_ebe73eee_fbb9_11ec_9d41_f0038c9c2fb6row7_col7\" class=\"data row7 col7\" >1.000000</td>\n",
       "            </tr>\n",
       "    </tbody></table>"
      ],
      "text/plain": [
       "<pandas.io.formats.style.Styler at 0x224d2c8bb50>"
      ]
     },
     "execution_count": 13,
     "metadata": {},
     "output_type": "execute_result"
    }
   ],
   "source": [
    "corr=df_data.corr()\n",
    "corr.style.background_gradient(cmap='coolwarm')"
   ]
  },
  {
   "cell_type": "code",
   "execution_count": 14,
   "metadata": {},
   "outputs": [
    {
     "data": {
      "text/html": [
       "<style  type=\"text/css\" >\n",
       "#T_ebeab770_fbb9_11ec_9f1d_f0038c9c2fb6row0_col0,#T_ebeab770_fbb9_11ec_9f1d_f0038c9c2fb6row1_col1{\n",
       "            background-color:  #b40426;\n",
       "            color:  #f1f1f1;\n",
       "        }#T_ebeab770_fbb9_11ec_9f1d_f0038c9c2fb6row0_col1,#T_ebeab770_fbb9_11ec_9f1d_f0038c9c2fb6row1_col0{\n",
       "            background-color:  #3b4cc0;\n",
       "            color:  #f1f1f1;\n",
       "        }</style><table id=\"T_ebeab770_fbb9_11ec_9f1d_f0038c9c2fb6\" ><thead>    <tr>        <th class=\"blank level0\" ></th>        <th class=\"col_heading level0 col0\" >customer_lifetime_value</th>        <th class=\"col_heading level0 col1\" >total_claim_amount</th>    </tr></thead><tbody>\n",
       "                <tr>\n",
       "                        <th id=\"T_ebeab770_fbb9_11ec_9f1d_f0038c9c2fb6level0_row0\" class=\"row_heading level0 row0\" >customer_lifetime_value</th>\n",
       "                        <td id=\"T_ebeab770_fbb9_11ec_9f1d_f0038c9c2fb6row0_col0\" class=\"data row0 col0\" >1.000000</td>\n",
       "                        <td id=\"T_ebeab770_fbb9_11ec_9f1d_f0038c9c2fb6row0_col1\" class=\"data row0 col1\" >0.226451</td>\n",
       "            </tr>\n",
       "            <tr>\n",
       "                        <th id=\"T_ebeab770_fbb9_11ec_9f1d_f0038c9c2fb6level0_row1\" class=\"row_heading level0 row1\" >total_claim_amount</th>\n",
       "                        <td id=\"T_ebeab770_fbb9_11ec_9f1d_f0038c9c2fb6row1_col0\" class=\"data row1 col0\" >0.226451</td>\n",
       "                        <td id=\"T_ebeab770_fbb9_11ec_9f1d_f0038c9c2fb6row1_col1\" class=\"data row1 col1\" >1.000000</td>\n",
       "            </tr>\n",
       "    </tbody></table>"
      ],
      "text/plain": [
       "<pandas.io.formats.style.Styler at 0x224d2c8b8b0>"
      ]
     },
     "execution_count": 14,
     "metadata": {},
     "output_type": "execute_result"
    }
   ],
   "source": [
    "corr1 = continuous_df.corr()\n",
    "corr1.style.background_gradient(cmap='coolwarm')"
   ]
  },
  {
   "cell_type": "code",
   "execution_count": 15,
   "metadata": {},
   "outputs": [
    {
     "data": {
      "text/html": [
       "<style  type=\"text/css\" >\n",
       "#T_ec4dbbe7_fbb9_11ec_b1f1_f0038c9c2fb6row0_col0,#T_ec4dbbe7_fbb9_11ec_b1f1_f0038c9c2fb6row1_col1,#T_ec4dbbe7_fbb9_11ec_b1f1_f0038c9c2fb6row2_col2,#T_ec4dbbe7_fbb9_11ec_b1f1_f0038c9c2fb6row3_col3,#T_ec4dbbe7_fbb9_11ec_b1f1_f0038c9c2fb6row4_col4,#T_ec4dbbe7_fbb9_11ec_b1f1_f0038c9c2fb6row5_col5{\n",
       "            background-color:  #b40426;\n",
       "            color:  #f1f1f1;\n",
       "        }#T_ec4dbbe7_fbb9_11ec_b1f1_f0038c9c2fb6row0_col1,#T_ec4dbbe7_fbb9_11ec_b1f1_f0038c9c2fb6row1_col4,#T_ec4dbbe7_fbb9_11ec_b1f1_f0038c9c2fb6row1_col5,#T_ec4dbbe7_fbb9_11ec_b1f1_f0038c9c2fb6row2_col0,#T_ec4dbbe7_fbb9_11ec_b1f1_f0038c9c2fb6row2_col3,#T_ec4dbbe7_fbb9_11ec_b1f1_f0038c9c2fb6row3_col2,#T_ec4dbbe7_fbb9_11ec_b1f1_f0038c9c2fb6row3_col5,#T_ec4dbbe7_fbb9_11ec_b1f1_f0038c9c2fb6row4_col1{\n",
       "            background-color:  #3b4cc0;\n",
       "            color:  #f1f1f1;\n",
       "        }#T_ec4dbbe7_fbb9_11ec_b1f1_f0038c9c2fb6row0_col2,#T_ec4dbbe7_fbb9_11ec_b1f1_f0038c9c2fb6row3_col4,#T_ec4dbbe7_fbb9_11ec_b1f1_f0038c9c2fb6row4_col5,#T_ec4dbbe7_fbb9_11ec_b1f1_f0038c9c2fb6row5_col4{\n",
       "            background-color:  #3e51c5;\n",
       "            color:  #f1f1f1;\n",
       "        }#T_ec4dbbe7_fbb9_11ec_b1f1_f0038c9c2fb6row0_col3,#T_ec4dbbe7_fbb9_11ec_b1f1_f0038c9c2fb6row4_col3{\n",
       "            background-color:  #465ecf;\n",
       "            color:  #f1f1f1;\n",
       "        }#T_ec4dbbe7_fbb9_11ec_b1f1_f0038c9c2fb6row0_col4,#T_ec4dbbe7_fbb9_11ec_b1f1_f0038c9c2fb6row2_col4,#T_ec4dbbe7_fbb9_11ec_b1f1_f0038c9c2fb6row5_col0{\n",
       "            background-color:  #3f53c6;\n",
       "            color:  #f1f1f1;\n",
       "        }#T_ec4dbbe7_fbb9_11ec_b1f1_f0038c9c2fb6row0_col5,#T_ec4dbbe7_fbb9_11ec_b1f1_f0038c9c2fb6row5_col1{\n",
       "            background-color:  #3c4ec2;\n",
       "            color:  #f1f1f1;\n",
       "        }#T_ec4dbbe7_fbb9_11ec_b1f1_f0038c9c2fb6row1_col0{\n",
       "            background-color:  #3d50c3;\n",
       "            color:  #f1f1f1;\n",
       "        }#T_ec4dbbe7_fbb9_11ec_b1f1_f0038c9c2fb6row1_col2,#T_ec4dbbe7_fbb9_11ec_b1f1_f0038c9c2fb6row4_col2{\n",
       "            background-color:  #485fd1;\n",
       "            color:  #f1f1f1;\n",
       "        }#T_ec4dbbe7_fbb9_11ec_b1f1_f0038c9c2fb6row1_col3{\n",
       "            background-color:  #4c66d6;\n",
       "            color:  #000000;\n",
       "        }#T_ec4dbbe7_fbb9_11ec_b1f1_f0038c9c2fb6row2_col1,#T_ec4dbbe7_fbb9_11ec_b1f1_f0038c9c2fb6row2_col5{\n",
       "            background-color:  #4055c8;\n",
       "            color:  #f1f1f1;\n",
       "        }#T_ec4dbbe7_fbb9_11ec_b1f1_f0038c9c2fb6row3_col0{\n",
       "            background-color:  #4257c9;\n",
       "            color:  #f1f1f1;\n",
       "        }#T_ec4dbbe7_fbb9_11ec_b1f1_f0038c9c2fb6row3_col1{\n",
       "            background-color:  #455cce;\n",
       "            color:  #f1f1f1;\n",
       "        }#T_ec4dbbe7_fbb9_11ec_b1f1_f0038c9c2fb6row4_col0{\n",
       "            background-color:  #445acc;\n",
       "            color:  #f1f1f1;\n",
       "        }#T_ec4dbbe7_fbb9_11ec_b1f1_f0038c9c2fb6row5_col2{\n",
       "            background-color:  #4961d2;\n",
       "            color:  #f1f1f1;\n",
       "        }#T_ec4dbbe7_fbb9_11ec_b1f1_f0038c9c2fb6row5_col3{\n",
       "            background-color:  #4358cb;\n",
       "            color:  #f1f1f1;\n",
       "        }</style><table id=\"T_ec4dbbe7_fbb9_11ec_b1f1_f0038c9c2fb6\" ><thead>    <tr>        <th class=\"blank level0\" ></th>        <th class=\"col_heading level0 col0\" >income</th>        <th class=\"col_heading level0 col1\" >monthly_premium_auto</th>        <th class=\"col_heading level0 col2\" >months_since_last_claim</th>        <th class=\"col_heading level0 col3\" >months_since_policy_inception</th>        <th class=\"col_heading level0 col4\" >number_of_open_complaints</th>        <th class=\"col_heading level0 col5\" >number_of_policies</th>    </tr></thead><tbody>\n",
       "                <tr>\n",
       "                        <th id=\"T_ec4dbbe7_fbb9_11ec_b1f1_f0038c9c2fb6level0_row0\" class=\"row_heading level0 row0\" >income</th>\n",
       "                        <td id=\"T_ec4dbbe7_fbb9_11ec_b1f1_f0038c9c2fb6row0_col0\" class=\"data row0 col0\" >1.000000</td>\n",
       "                        <td id=\"T_ec4dbbe7_fbb9_11ec_b1f1_f0038c9c2fb6row0_col1\" class=\"data row0 col1\" >-0.016665</td>\n",
       "                        <td id=\"T_ec4dbbe7_fbb9_11ec_b1f1_f0038c9c2fb6row0_col2\" class=\"data row0 col2\" >-0.026715</td>\n",
       "                        <td id=\"T_ec4dbbe7_fbb9_11ec_b1f1_f0038c9c2fb6row0_col3\" class=\"data row0 col3\" >-0.000875</td>\n",
       "                        <td id=\"T_ec4dbbe7_fbb9_11ec_b1f1_f0038c9c2fb6row0_col4\" class=\"data row0 col4\" >0.006408</td>\n",
       "                        <td id=\"T_ec4dbbe7_fbb9_11ec_b1f1_f0038c9c2fb6row0_col5\" class=\"data row0 col5\" >-0.008656</td>\n",
       "            </tr>\n",
       "            <tr>\n",
       "                        <th id=\"T_ec4dbbe7_fbb9_11ec_b1f1_f0038c9c2fb6level0_row1\" class=\"row_heading level0 row1\" >monthly_premium_auto</th>\n",
       "                        <td id=\"T_ec4dbbe7_fbb9_11ec_b1f1_f0038c9c2fb6row1_col0\" class=\"data row1 col0\" >-0.016665</td>\n",
       "                        <td id=\"T_ec4dbbe7_fbb9_11ec_b1f1_f0038c9c2fb6row1_col1\" class=\"data row1 col1\" >1.000000</td>\n",
       "                        <td id=\"T_ec4dbbe7_fbb9_11ec_b1f1_f0038c9c2fb6row1_col2\" class=\"data row1 col2\" >0.005026</td>\n",
       "                        <td id=\"T_ec4dbbe7_fbb9_11ec_b1f1_f0038c9c2fb6row1_col3\" class=\"data row1 col3\" >0.020257</td>\n",
       "                        <td id=\"T_ec4dbbe7_fbb9_11ec_b1f1_f0038c9c2fb6row1_col4\" class=\"data row1 col4\" >-0.013122</td>\n",
       "                        <td id=\"T_ec4dbbe7_fbb9_11ec_b1f1_f0038c9c2fb6row1_col5\" class=\"data row1 col5\" >-0.011233</td>\n",
       "            </tr>\n",
       "            <tr>\n",
       "                        <th id=\"T_ec4dbbe7_fbb9_11ec_b1f1_f0038c9c2fb6level0_row2\" class=\"row_heading level0 row2\" >months_since_last_claim</th>\n",
       "                        <td id=\"T_ec4dbbe7_fbb9_11ec_b1f1_f0038c9c2fb6row2_col0\" class=\"data row2 col0\" >-0.026715</td>\n",
       "                        <td id=\"T_ec4dbbe7_fbb9_11ec_b1f1_f0038c9c2fb6row2_col1\" class=\"data row2 col1\" >0.005026</td>\n",
       "                        <td id=\"T_ec4dbbe7_fbb9_11ec_b1f1_f0038c9c2fb6row2_col2\" class=\"data row2 col2\" >1.000000</td>\n",
       "                        <td id=\"T_ec4dbbe7_fbb9_11ec_b1f1_f0038c9c2fb6row2_col3\" class=\"data row2 col3\" >-0.042959</td>\n",
       "                        <td id=\"T_ec4dbbe7_fbb9_11ec_b1f1_f0038c9c2fb6row2_col4\" class=\"data row2 col4\" >0.005354</td>\n",
       "                        <td id=\"T_ec4dbbe7_fbb9_11ec_b1f1_f0038c9c2fb6row2_col5\" class=\"data row2 col5\" >0.009136</td>\n",
       "            </tr>\n",
       "            <tr>\n",
       "                        <th id=\"T_ec4dbbe7_fbb9_11ec_b1f1_f0038c9c2fb6level0_row3\" class=\"row_heading level0 row3\" >months_since_policy_inception</th>\n",
       "                        <td id=\"T_ec4dbbe7_fbb9_11ec_b1f1_f0038c9c2fb6row3_col0\" class=\"data row3 col0\" >-0.000875</td>\n",
       "                        <td id=\"T_ec4dbbe7_fbb9_11ec_b1f1_f0038c9c2fb6row3_col1\" class=\"data row3 col1\" >0.020257</td>\n",
       "                        <td id=\"T_ec4dbbe7_fbb9_11ec_b1f1_f0038c9c2fb6row3_col2\" class=\"data row3 col2\" >-0.042959</td>\n",
       "                        <td id=\"T_ec4dbbe7_fbb9_11ec_b1f1_f0038c9c2fb6row3_col3\" class=\"data row3 col3\" >1.000000</td>\n",
       "                        <td id=\"T_ec4dbbe7_fbb9_11ec_b1f1_f0038c9c2fb6row3_col4\" class=\"data row3 col4\" >-0.001158</td>\n",
       "                        <td id=\"T_ec4dbbe7_fbb9_11ec_b1f1_f0038c9c2fb6row3_col5\" class=\"data row3 col5\" >-0.013333</td>\n",
       "            </tr>\n",
       "            <tr>\n",
       "                        <th id=\"T_ec4dbbe7_fbb9_11ec_b1f1_f0038c9c2fb6level0_row4\" class=\"row_heading level0 row4\" >number_of_open_complaints</th>\n",
       "                        <td id=\"T_ec4dbbe7_fbb9_11ec_b1f1_f0038c9c2fb6row4_col0\" class=\"data row4 col0\" >0.006408</td>\n",
       "                        <td id=\"T_ec4dbbe7_fbb9_11ec_b1f1_f0038c9c2fb6row4_col1\" class=\"data row4 col1\" >-0.013122</td>\n",
       "                        <td id=\"T_ec4dbbe7_fbb9_11ec_b1f1_f0038c9c2fb6row4_col2\" class=\"data row4 col2\" >0.005354</td>\n",
       "                        <td id=\"T_ec4dbbe7_fbb9_11ec_b1f1_f0038c9c2fb6row4_col3\" class=\"data row4 col3\" >-0.001158</td>\n",
       "                        <td id=\"T_ec4dbbe7_fbb9_11ec_b1f1_f0038c9c2fb6row4_col4\" class=\"data row4 col4\" >1.000000</td>\n",
       "                        <td id=\"T_ec4dbbe7_fbb9_11ec_b1f1_f0038c9c2fb6row4_col5\" class=\"data row4 col5\" >0.001498</td>\n",
       "            </tr>\n",
       "            <tr>\n",
       "                        <th id=\"T_ec4dbbe7_fbb9_11ec_b1f1_f0038c9c2fb6level0_row5\" class=\"row_heading level0 row5\" >number_of_policies</th>\n",
       "                        <td id=\"T_ec4dbbe7_fbb9_11ec_b1f1_f0038c9c2fb6row5_col0\" class=\"data row5 col0\" >-0.008656</td>\n",
       "                        <td id=\"T_ec4dbbe7_fbb9_11ec_b1f1_f0038c9c2fb6row5_col1\" class=\"data row5 col1\" >-0.011233</td>\n",
       "                        <td id=\"T_ec4dbbe7_fbb9_11ec_b1f1_f0038c9c2fb6row5_col2\" class=\"data row5 col2\" >0.009136</td>\n",
       "                        <td id=\"T_ec4dbbe7_fbb9_11ec_b1f1_f0038c9c2fb6row5_col3\" class=\"data row5 col3\" >-0.013333</td>\n",
       "                        <td id=\"T_ec4dbbe7_fbb9_11ec_b1f1_f0038c9c2fb6row5_col4\" class=\"data row5 col4\" >0.001498</td>\n",
       "                        <td id=\"T_ec4dbbe7_fbb9_11ec_b1f1_f0038c9c2fb6row5_col5\" class=\"data row5 col5\" >1.000000</td>\n",
       "            </tr>\n",
       "    </tbody></table>"
      ],
      "text/plain": [
       "<pandas.io.formats.style.Styler at 0x224d3327490>"
      ]
     },
     "execution_count": 15,
     "metadata": {},
     "output_type": "execute_result"
    }
   ],
   "source": [
    "corr2 = discrete_df.corr()\n",
    "corr2.style.background_gradient(cmap='coolwarm')"
   ]
  },
  {
   "cell_type": "code",
   "execution_count": 16,
   "metadata": {},
   "outputs": [],
   "source": [
    "#sb.heatmap(continuous_df.corr(),annot=True); another option to plot the correlation matrixes\n",
    "# sb.heatmap(discrete_df.corr(),annot=True);"
   ]
  },
  {
   "cell_type": "markdown",
   "metadata": {},
   "source": [
    "d) Create a function to plot every discrete variables. Do the same with continuous variables (be careful, you may change the plot type to another one better suited for continuous data).\n",
    "\n"
   ]
  },
  {
   "cell_type": "code",
   "execution_count": 17,
   "metadata": {},
   "outputs": [
    {
     "name": "stderr",
     "output_type": "stream",
     "text": [
      "C:\\Users\\Xabi\\anaconda3\\lib\\site-packages\\seaborn\\distributions.py:2551: FutureWarning: `distplot` is a deprecated function and will be removed in a future version. Please adapt your code to use either `displot` (a figure-level function with similar flexibility) or `histplot` (an axes-level function for histograms).\n",
      "  warnings.warn(msg, FutureWarning)\n"
     ]
    },
    {
     "data": {
      "image/png": "[encoded data removed]",
      "text/plain": [
       "<Figure size 432x288 with 1 Axes>"
      ]
     },
     "metadata": {
      "needs_background": "light"
     },
     "output_type": "display_data"
    },
    {
     "name": "stderr",
     "output_type": "stream",
     "text": [
      "C:\\Users\\Xabi\\anaconda3\\lib\\site-packages\\seaborn\\distributions.py:2551: FutureWarning: `distplot` is a deprecated function and will be removed in a future version. Please adapt your code to use either `displot` (a figure-level function with similar flexibility) or `histplot` (an axes-level function for histograms).\n",
      "  warnings.warn(msg, FutureWarning)\n"
     ]
    },
    {
     "data": {
      "image/png": "[encoded data removed]",
      "text/plain": [
       "<Figure size 432x288 with 1 Axes>"
      ]
     },
     "metadata": {
      "needs_background": "light"
     },
     "output_type": "display_data"
    }
   ],
   "source": [
    "cont_col=continuous_df.columns.values.tolist()\n",
    "for col in cont_col:\n",
    "    sb.distplot(continuous_df[col])\n",
    "    plt.show()"
   ]
  },
  {
   "cell_type": "code",
   "execution_count": 18,
   "metadata": {},
   "outputs": [
    {
     "name": "stderr",
     "output_type": "stream",
     "text": [
      "C:\\Users\\Xabi\\anaconda3\\lib\\site-packages\\seaborn\\distributions.py:2551: FutureWarning: `distplot` is a deprecated function and will be removed in a future version. Please adapt your code to use either `displot` (a figure-level function with similar flexibility) or `histplot` (an axes-level function for histograms).\n",
      "  warnings.warn(msg, FutureWarning)\n"
     ]
    },
    {
     "data": {
      "image/png": "[encoded data removed]",
      "text/plain": [
       "<Figure size 432x288 with 1 Axes>"
      ]
     },
     "metadata": {
      "needs_background": "light"
     },
     "output_type": "display_data"
    },
    {
     "name": "stderr",
     "output_type": "stream",
     "text": [
      "C:\\Users\\Xabi\\anaconda3\\lib\\site-packages\\seaborn\\distributions.py:2551: FutureWarning: `distplot` is a deprecated function and will be removed in a future version. Please adapt your code to use either `displot` (a figure-level function with similar flexibility) or `histplot` (an axes-level function for histograms).\n",
      "  warnings.warn(msg, FutureWarning)\n"
     ]
    },
    {
     "data": {
      "image/png": "[encoded data removed]",
      "text/plain": [
       "<Figure size 432x288 with 1 Axes>"
      ]
     },
     "metadata": {
      "needs_background": "light"
     },
     "output_type": "display_data"
    },
    {
     "name": "stderr",
     "output_type": "stream",
     "text": [
      "C:\\Users\\Xabi\\anaconda3\\lib\\site-packages\\seaborn\\distributions.py:2551: FutureWarning: `distplot` is a deprecated function and will be removed in a future version. Please adapt your code to use either `displot` (a figure-level function with similar flexibility) or `histplot` (an axes-level function for histograms).\n",
      "  warnings.warn(msg, FutureWarning)\n"
     ]
    },
    {
     "data": {
      "image/png": "[encoded data removed]",
      "text/plain": [
       "<Figure size 432x288 with 1 Axes>"
      ]
     },
     "metadata": {
      "needs_background": "light"
     },
     "output_type": "display_data"
    },
    {
     "name": "stderr",
     "output_type": "stream",
     "text": [
      "C:\\Users\\Xabi\\anaconda3\\lib\\site-packages\\seaborn\\distributions.py:2551: FutureWarning: `distplot` is a deprecated function and will be removed in a future version. Please adapt your code to use either `displot` (a figure-level function with similar flexibility) or `histplot` (an axes-level function for histograms).\n",
      "  warnings.warn(msg, FutureWarning)\n"
     ]
    },
    {
     "data": {
      "image/png": "[encoded data removed]",
      "text/plain": [
       "<Figure size 432x288 with 1 Axes>"
      ]
     },
     "metadata": {
      "needs_background": "light"
     },
     "output_type": "display_data"
    },
    {
     "name": "stderr",
     "output_type": "stream",
     "text": [
      "C:\\Users\\Xabi\\anaconda3\\lib\\site-packages\\seaborn\\distributions.py:2551: FutureWarning: `distplot` is a deprecated function and will be removed in a future version. Please adapt your code to use either `displot` (a figure-level function with similar flexibility) or `histplot` (an axes-level function for histograms).\n",
      "  warnings.warn(msg, FutureWarning)\n"
     ]
    },
    {
     "data": {
      "image/png": "[encoded data removed]",
      "text/plain": [
       "<Figure size 432x288 with 1 Axes>"
      ]
     },
     "metadata": {
      "needs_background": "light"
     },
     "output_type": "display_data"
    },
    {
     "name": "stderr",
     "output_type": "stream",
     "text": [
      "C:\\Users\\Xabi\\anaconda3\\lib\\site-packages\\seaborn\\distributions.py:2551: FutureWarning: `distplot` is a deprecated function and will be removed in a future version. Please adapt your code to use either `displot` (a figure-level function with similar flexibility) or `histplot` (an axes-level function for histograms).\n",
      "  warnings.warn(msg, FutureWarning)\n"
     ]
    },
    {
     "data": {
      "image/png": "[encoded data removed]",
      "text/plain": [
       "<Figure size 432x288 with 1 Axes>"
      ]
     },
     "metadata": {
      "needs_background": "light"
     },
     "output_type": "display_data"
    }
   ],
   "source": [
    "discr_col=discrete_df.columns.values.tolist()\n",
    "for cols in discr_col:\n",
    "    sb.distplot(discrete_df[cols])\n",
    "    plt.show()"
   ]
  },
  {
   "cell_type": "markdown",
   "metadata": {},
   "source": [
    "e) What can you see in the plots?\n",
    "\n"
   ]
  },
  {
   "cell_type": "markdown",
   "metadata": {},
   "source": [
    "It is clear which plots come from discrete variables and which from continuous variables as there are no observations between integers and we can see the gaps."
   ]
  },
  {
   "cell_type": "markdown",
   "metadata": {},
   "source": [
    "f) Look for outliers in the continuous variables we have found. Hint: There was a good plot to do that.\n",
    "\n"
   ]
  },
  {
   "cell_type": "code",
   "execution_count": 90,
   "metadata": {},
   "outputs": [
    {
     "name": "stderr",
     "output_type": "stream",
     "text": [
      "C:\\Users\\Xabi\\anaconda3\\lib\\site-packages\\seaborn\\_decorators.py:36: FutureWarning: Pass the following variable as a keyword arg: x. From version 0.12, the only valid positional argument will be `data`, and passing other arguments without an explicit keyword will result in an error or misinterpretation.\n",
      "  warnings.warn(\n"
     ]
    },
    {
     "data": {
      "image/png": "[encoded data removed]",
      "text/plain": [
       "<Figure size 432x288 with 1 Axes>"
      ]
     },
     "metadata": {
      "needs_background": "light"
     },
     "output_type": "display_data"
    },
    {
     "name": "stderr",
     "output_type": "stream",
     "text": [
      "C:\\Users\\Xabi\\anaconda3\\lib\\site-packages\\seaborn\\_decorators.py:36: FutureWarning: Pass the following variable as a keyword arg: x. From version 0.12, the only valid positional argument will be `data`, and passing other arguments without an explicit keyword will result in an error or misinterpretation.\n",
      "  warnings.warn(\n"
     ]
    },
    {
     "data": {
      "image/png": "[encoded data removed]",
      "text/plain": [
       "<Figure size 432x288 with 1 Axes>"
      ]
     },
     "metadata": {
      "needs_background": "light"
     },
     "output_type": "display_data"
    }
   ],
   "source": [
    "for col in continuous_df:\n",
    "    sb.boxplot(continuous_df[col])\n",
    "    plt.show()"
   ]
  },
  {
   "cell_type": "markdown",
   "metadata": {},
   "source": [
    "g) Have you found outliers? If you have, what should we do with them?\n"
   ]
  },
  {
   "cell_type": "markdown",
   "metadata": {},
   "source": [
    "There are some outliers both in 'customer_life_time_value' and in 'total_claim_amount'. Depending on what we would like to predict, we could keep them or drop them. In addition, we could define a threshold which would establish the limit to decide if the outliers are worth or not. We could define bins and check how many ocurrences are in each bin. If the amount of ocurrences is very low and separated from the majority of the ocurrences (see 'total_claim_amount' between 2500-3000) we should analyze this and check wether it is worth to keep them or not (depending on our goal)."
   ]
  },
  {
   "cell_type": "markdown",
   "metadata": {},
   "source": [
    "\n",
    "h) Check nan values per column.\n",
    "\n"
   ]
  },
  {
   "cell_type": "code",
   "execution_count": 19,
   "metadata": {},
   "outputs": [
    {
     "data": {
      "text/plain": [
       "customer                         0\n",
       "state                            0\n",
       "customer_lifetime_value          0\n",
       "response                         0\n",
       "coverage                         0\n",
       "education                        0\n",
       "effective_to_date                0\n",
       "employmentstatus                 0\n",
       "gender                           0\n",
       "income                           0\n",
       "location_code                    0\n",
       "marital_status                   0\n",
       "monthly_premium_auto             0\n",
       "months_since_last_claim          0\n",
       "months_since_policy_inception    0\n",
       "number_of_open_complaints        0\n",
       "number_of_policies               0\n",
       "policy_type                      0\n",
       "policy                           0\n",
       "renew_offer_type                 0\n",
       "sales_channel                    0\n",
       "total_claim_amount               0\n",
       "vehicle_class                    0\n",
       "vehicle_size                     0\n",
       "dtype: int64"
      ]
     },
     "execution_count": 19,
     "metadata": {},
     "output_type": "execute_result"
    }
   ],
   "source": [
    "df_data.isna().sum()"
   ]
  },
  {
   "cell_type": "markdown",
   "metadata": {},
   "source": [
    "As we can see, there are no nan values in the dataframe."
   ]
  },
  {
   "cell_type": "markdown",
   "metadata": {},
   "source": [
    "i) Define a function that differentiate between continuous and discrete variables. Hint: Number of unique values might be useful. Store continuous data into a continuous variable and do the same for discrete and categorical.\n",
    "\n"
   ]
  },
  {
   "cell_type": "code",
   "execution_count": 20,
   "metadata": {},
   "outputs": [
    {
     "name": "stdout",
     "output_type": "stream",
     "text": [
      "2300.691547     6\n",
      "6057.072080     6\n",
      "6005.214792     6\n",
      "8819.018934     6\n",
      "4984.618655     6\n",
      "               ..\n",
      "12206.892080    1\n",
      "3728.830130     1\n",
      "2456.816647     1\n",
      "2675.029491     1\n",
      "4491.909095     1\n",
      "Name: customer_lifetime_value, Length: 8041, dtype: int64\n",
      "0        2317\n",
      "95697      12\n",
      "40864       7\n",
      "24910       7\n",
      "25965       7\n",
      "         ... \n",
      "26952       1\n",
      "84300       1\n",
      "22862       1\n",
      "20815       1\n",
      "57240       1\n",
      "Name: income, Length: 5694, dtype: int64\n",
      "65     348\n",
      "66     307\n",
      "71     304\n",
      "73     302\n",
      "63     289\n",
      "      ... \n",
      "231      1\n",
      "209      1\n",
      "204      1\n",
      "268      1\n",
      "284      1\n",
      "Name: monthly_premium_auto, Length: 202, dtype: int64\n",
      "3     381\n",
      "6     364\n",
      "1     345\n",
      "4     335\n",
      "7     333\n",
      "2     329\n",
      "0     314\n",
      "5     313\n",
      "10    306\n",
      "11    297\n",
      "16    295\n",
      "15    286\n",
      "13    285\n",
      "8     279\n",
      "12    273\n",
      "14    268\n",
      "17    263\n",
      "9     250\n",
      "19    246\n",
      "23    239\n",
      "25    236\n",
      "21    233\n",
      "20    231\n",
      "18    229\n",
      "22    218\n",
      "24    211\n",
      "29    206\n",
      "28    201\n",
      "31    190\n",
      "26    186\n",
      "27    182\n",
      "30    182\n",
      "33    179\n",
      "34    169\n",
      "35    142\n",
      "32    138\n",
      "Name: months_since_last_claim, dtype: int64\n",
      "59    142\n",
      "61    128\n",
      "50    125\n",
      "44    115\n",
      "10    114\n",
      "     ... \n",
      "16     70\n",
      "96     67\n",
      "82     56\n",
      "98     54\n",
      "97     52\n",
      "Name: months_since_policy_inception, Length: 100, dtype: int64\n",
      "0    7252\n",
      "1    1011\n",
      "2     374\n",
      "3     292\n",
      "4     149\n",
      "5      56\n",
      "Name: number_of_open_complaints, dtype: int64\n",
      "1    3251\n",
      "2    2294\n",
      "3    1168\n",
      "7     433\n",
      "9     416\n",
      "4     409\n",
      "5     407\n",
      "8     384\n",
      "6     372\n",
      "Name: number_of_policies, dtype: int64\n",
      "316.800000    116\n",
      "292.800000    110\n",
      "312.000000    108\n",
      "350.400000    105\n",
      "331.200000    102\n",
      "             ... \n",
      "212.009825      1\n",
      "314.880326      1\n",
      "707.925645      1\n",
      "246.993145      1\n",
      "204.620759      1\n",
      "Name: total_claim_amount, Length: 5106, dtype: int64\n"
     ]
    }
   ],
   "source": [
    "df_numerical=df_data.select_dtypes(exclude='object')\n",
    "for col in df_numerical:\n",
    "    print(df_numerical[col].value_counts())\n"
   ]
  },
  {
   "cell_type": "code",
   "execution_count": 101,
   "metadata": {},
   "outputs": [
    {
     "name": "stdout",
     "output_type": "stream",
     "text": [
      "8041 customer_lifetime_value\n",
      "5694 income\n",
      "202 monthly_premium_auto\n",
      "36 months_since_last_claim\n",
      "100 months_since_policy_inception\n",
      "6 number_of_open_complaints\n",
      "9 number_of_policies\n",
      "5106 total_claim_amount\n"
     ]
    }
   ],
   "source": [
    "for col in df_numerical:\n",
    "    print(df_numerical[col].nunique(),col) # in order to check how many unique values are in the numerical variables"
   ]
  },
  {
   "cell_type": "markdown",
   "metadata": {},
   "source": [
    "j) For the categorical data, check if there is some kind of text in a variable so we would need to clean it. Hint: Use the same method you used in step 7. Depending on the implementation, decide what to do with the variables you get.\n",
    "\n",
    "k) Get categorical features."
   ]
  },
  {
   "cell_type": "code",
   "execution_count": 103,
   "metadata": {},
   "outputs": [
    {
     "name": "stdout",
     "output_type": "stream",
     "text": [
      "<class 'pandas.core.frame.DataFrame'>\n",
      "RangeIndex: 9134 entries, 0 to 9133\n",
      "Data columns (total 16 columns):\n",
      " #   Column             Non-Null Count  Dtype \n",
      "---  ------             --------------  ----- \n",
      " 0   customer           9134 non-null   object\n",
      " 1   state              9134 non-null   object\n",
      " 2   response           9134 non-null   object\n",
      " 3   coverage           9134 non-null   object\n",
      " 4   education          9134 non-null   object\n",
      " 5   effective_to_date  9134 non-null   object\n",
      " 6   employmentstatus   9134 non-null   object\n",
      " 7   gender             9134 non-null   object\n",
      " 8   location_code      9134 non-null   object\n",
      " 9   marital_status     9134 non-null   object\n",
      " 10  policy_type        9134 non-null   object\n",
      " 11  policy             9134 non-null   object\n",
      " 12  renew_offer_type   9134 non-null   object\n",
      " 13  sales_channel      9134 non-null   object\n",
      " 14  vehicle_class      9134 non-null   object\n",
      " 15  vehicle_size       9134 non-null   object\n",
      "dtypes: object(16)\n",
      "memory usage: 1.1+ MB\n"
     ]
    }
   ],
   "source": [
    "categorical_df=df_data.select_dtypes('object')\n",
    "categorical_df.info()"
   ]
  },
  {
   "cell_type": "code",
   "execution_count": null,
   "metadata": {},
   "outputs": [],
   "source": []
  },
  {
   "cell_type": "markdown",
   "metadata": {},
   "source": [
    "l) What should we do with the customer id column?"
   ]
  },
  {
   "cell_type": "code",
   "execution_count": 104,
   "metadata": {},
   "outputs": [
    {
     "data": {
      "text/plain": [
       "customer             0.0\n",
       "state                0.0\n",
       "response             0.0\n",
       "coverage             0.0\n",
       "education            0.0\n",
       "effective_to_date    0.0\n",
       "employmentstatus     0.0\n",
       "gender               0.0\n",
       "location_code        0.0\n",
       "marital_status       0.0\n",
       "policy_type          0.0\n",
       "policy               0.0\n",
       "renew_offer_type     0.0\n",
       "sales_channel        0.0\n",
       "vehicle_class        0.0\n",
       "vehicle_size         0.0\n",
       "dtype: float64"
      ]
     },
     "execution_count": 104,
     "metadata": {},
     "output_type": "execute_result"
    }
   ],
   "source": [
    "categorical_df[categorical_df.duplicated()].sum() # in order to look for duplicated values. No duplicated 'customer'."
   ]
  },
  {
   "cell_type": "code",
   "execution_count": 105,
   "metadata": {},
   "outputs": [
    {
     "data": {
      "text/plain": [
       "TH70115    1\n",
       "HT31871    1\n",
       "HV50891    1\n",
       "AX39008    1\n",
       "SM10031    1\n",
       "          ..\n",
       "PI71828    1\n",
       "SH75038    1\n",
       "BJ82316    1\n",
       "NS51605    1\n",
       "CR37971    1\n",
       "Name: customer, Length: 9134, dtype: int64"
      ]
     },
     "execution_count": 105,
     "metadata": {},
     "output_type": "execute_result"
    }
   ],
   "source": [
    "categorical_df.customer.value_counts()"
   ]
  },
  {
   "cell_type": "markdown",
   "metadata": {},
   "source": [
    "The 'customer' column could be split in letters and numbers in two columns. Anyway, I would let this variable as it is."
   ]
  },
  {
   "cell_type": "code",
   "execution_count": null,
   "metadata": {},
   "outputs": [],
   "source": []
  }
 ],
 "metadata": {
  "kernelspec": {
   "display_name": "Python 3",
   "language": "python",
   "name": "python3"
  },
  "language_info": {
   "codemirror_mode": {
    "name": "ipython",
    "version": 3
   },
   "file_extension": ".py",
   "mimetype": "text/x-python",
   "name": "python",
   "nbconvert_exporter": "python",
   "pygments_lexer": "ipython3",
   "version": "3.8.5"
  }
 },
 "nbformat": 4,
 "nbformat_minor": 4
}
